{
  "nbformat": 4,
  "nbformat_minor": 0,
  "metadata": {
    "accelerator": "GPU",
    "colab": {
      "name": "DL_Lab4.ipynb",
      "provenance": [],
      "collapsed_sections": []
    },
    "kernelspec": {
      "display_name": "Python 3",
      "language": "python",
      "name": "python3"
    },
    "language_info": {
      "codemirror_mode": {
        "name": "ipython",
        "version": 3
      },
      "file_extension": ".py",
      "mimetype": "text/x-python",
      "name": "python",
      "nbconvert_exporter": "python",
      "pygments_lexer": "ipython3",
      "version": "3.6.3"
    },
    "pycharm": {
      "stem_cell": {
        "cell_type": "raw",
        "metadata": {
          "collapsed": false
        },
        "source": []
      }
    }
  },
  "cells": [
    {
      "cell_type": "markdown",
      "metadata": {
        "id": "Pk_B2WDJqYYR",
        "colab_type": "text"
      },
      "source": [
        "<a href=\"https://colab.research.google.com/github/wingated/cs474_labs_f2019/blob/master/DL_Lab4.ipynb\" target=\"_parent\"><img src=\"https://colab.research.google.com/assets/colab-badge.svg\" alt=\"Open In Colab\"/></a>"
      ]
    },
    {
      "cell_type": "markdown",
      "metadata": {
        "colab_type": "text",
        "id": "view-in-github"
      },
      "source": [
        "# Lab 4: Cancer Detection\n",
        "\n",
        "## Objective\n",
        "* To build a dense prediction model\n",
        "* To begin reading current papers in DNN research\n",
        "\n",
        "## Deliverable\n",
        "For this lab, you will turn in a notebook that describes your efforts at creating\n",
        "a pytorch radiologist. Your final deliverable is a notebook that has (1) deep network,\n",
        "(2) cost function, (3) method of calculating accuracy,\n",
        "(4) an image that shows the dense prediction produced by your network on the pos_test_000072.png image.\n",
        "This is an image in the test set that your network will not have seen before.\n",
        "This image, and the ground truth labeling, is shown below.\n",
        "(And is contained in the downloadable dataset below).\n",
        "\n",
        "![](http://liftothers.org/dokuwiki/lib/exe/fetch.php?w=200&tok=a8ac31&media=cs501r_f2016:pos_test_000072_output.png)\n",
        "<img src=\"http://liftothers.org/dokuwiki/lib/exe/fetch.php?media=cs501r_f2016:pos_test_000072.png\" width=\"200\">\n",
        "\n",
        "\n",
        "## Grading standards\n",
        "Your notebook will be graded on the following:\n",
        "* 40% Proper design, creation and debugging of a dense prediction network\n",
        "* 40% Proper implementation of a loss function and train/test set accuracy measure\n",
        "* 10% Tidy visualizations of loss of your dense predictor during training\n",
        "* 10% Test image output\n",
        "\n",
        "\n",
        "## Data set\n",
        "The data is given as a set of 1024×1024 PNG images. Each input image (in \n",
        "the ```inputs``` directory) is an RGB image of a section of tissue,\n",
        "and there a file with the same name (in the ```outputs``` directory) \n",
        "that has a dense labeling of whether or not a section of tissue is cancerous\n",
        "(white pixels mean “cancerous”, while black pixels mean “not cancerous”).\n",
        "\n",
        "The data has been pre-split for you into test and training splits.\n",
        "Filenames also reflect whether or not the image has any cancer at all \n",
        "(files starting with ```pos_``` have some cancerous pixels, while files \n",
        "starting with ```neg_``` have no cancer anywhere).\n",
        "All of the data is hand-labeled, so the dataset is not very large.\n",
        "That means that overfitting is a real possibility.\n",
        "\n",
        "## Description\n",
        "For a video including some tips and tricks that can help with this lab: [https://youtu.be/Ms19kgK_D8w](https://youtu.be/Ms19kgK_D8w)\n",
        "For this lab, you will implement a virtual radiologist.\n",
        "You are given images of possibly cancerous tissue samples, \n",
        "and you must build a detector that identifies where in the tissue cancer may reside.\n",
        "\n",
        "---\n",
        "\n",
        "### Part 0\n",
        "Watch and follow video tutorial:\n",
        "\n",
        "https://youtu.be/Ms19kgK_D8w\n",
        "\n",
        "**TODO:**\n",
        "\n",
        "\n",
        "\n",
        "**DONE:**\n",
        "* Watch tutorial\n",
        "\n",
        "### Part 1\n",
        "Implement a dense predictor\n",
        "\n",
        "In previous labs and lectures, we have talked about DNNs that classify an \n",
        "entire image as a single class. Here, however, we are interested in a more nuanced classification: \n",
        "given an input image, we would like to identify each pixel that is possibly cancerous. \n",
        "That means that instead of a single output, your network should output an “image”, \n",
        "where each output pixel of your network represents the probability that a pixel is cancerous.\n",
        "\n",
        "**TODO:**\n",
        "\n",
        "* Create a Network that classifies each pixel as a 1 or 0 for cancerous / not cancerous\n",
        "\n",
        "**DONE:**\n",
        "\n",
        "___\n",
        "\n",
        "### Part 1a\n",
        "Implement your network topology\n",
        "\n",
        "\n",
        "Use the “Deep Convolution U-Net” from this paper: [(U-Net: Convolutional Networks for Biomedical Image Segmentation)](https://arxiv.org/pdf/1505.04597.pdf) \n",
        "\n",
        "![(Figure 1)](https://lh3.googleusercontent.com/qnHiB3B2KRxC3NjiSDtY08_DgDGTDsHcO6PP53oNRuct-p2QXCR-gyLkDveO850F2tTAhIOPC5Ha06NP9xq1JPsVAHlQ5UXA5V-9zkUrJHGhP_MNHFoRGnjBz1vn1p8P2rMWhlAb6HQ=w2400)\n",
        "\n",
        "You should use existing pytorch functions (not your own Conv2D module), such as ```nn.Conv2d```;\n",
        "you will also need the pytorch function ```torch.cat``` and ```nn.ConvTranspose2d```\n",
        "\n",
        "```torch.cat``` allows you to concatenate tensors.\n",
        "```nn.ConvTranspose2d``` is the opposite of ```nn.Conv2d```.\n",
        "It is used to bring an image from low res to higher res.\n",
        "[This blog](https://towardsdatascience.com/up-sampling-with-transposed-convolution-9ae4f2df52d0) should help you understand this function in detail.\n",
        "\n",
        "Note that the simplest network you could implement (with all the desired properties)\n",
        "is just a single convolution layer with two filters and no relu! \n",
        "Why is that? (of course it wouldn't work very well!)\n",
        "\n",
        "**TODO:**\n",
        "\n",
        "* Understand the U-Net architecture\n",
        "* Understand concatenation of inputs from multiple prior layers\n",
        "* Understand ConvTranspose\n",
        "* Answer Question / Reflect on simplest network with the desired properties\n",
        "\n",
        "**DONE:**\n",
        "\n",
        "\n",
        "___\n",
        "The intention of this lab is to learn how to make deep neural nets and implement loss function.\n",
        "Therefore we'll help you with the implementation of Dataset.\n",
        "This code will download the dataset for you so that you are ready to use it and focus on network\n",
        "implementation, losses and accuracies."
      ]
    },
    {
      "cell_type": "code",
      "metadata": {
        "colab_type": "code",
        "id": "wQOefmcZVgTl",
        "pycharm": {
          "is_executing": false
        },
        "colab": {
          "base_uri": "https://localhost:8080/",
          "height": 173
        },
        "outputId": "8cf1926c-b1f8-4e5b-d7e5-a746261f7030"
      },
      "source": [
        "!pip3 install torch\n",
        "!pip3 install torchvision\n",
        "!pip3 install tqdm\n",
        "\n",
        "import torch\n",
        "import torch.nn as nn\n",
        "import torch.nn.functional as F\n",
        "import torch.optim as optim\n",
        "from torch.utils.data import Dataset, DataLoader\n",
        "import numpy as np\n",
        "import matplotlib.pyplot as plt\n",
        "from torchvision import transforms, utils, datasets\n",
        "from tqdm import tqdm\n",
        "from torch.nn.parameter import Parameter\n",
        "import pdb\n",
        "import torchvision\n",
        "import os\n",
        "import gzip\n",
        "import tarfile\n",
        "import gc\n",
        "import cv2\n",
        "import scipy.misc\n",
        "from PIL import Image\n",
        "from IPython.core.ultratb import AutoFormattedTB\n",
        "__ITB__ = AutoFormattedTB(mode = 'Verbose',color_scheme='LightBg', tb_offset = 1)\n",
        "\n",
        "assert torch.cuda.is_available(), \"You need to request a GPU from Runtime > Change Runtime\""
      ],
      "execution_count": 26,
      "outputs": [
        {
          "output_type": "stream",
          "text": [
            "Requirement already satisfied: torch in /usr/local/lib/python3.6/dist-packages (1.2.0)\n",
            "Requirement already satisfied: numpy in /usr/local/lib/python3.6/dist-packages (from torch) (1.16.5)\n",
            "Requirement already satisfied: torchvision in /usr/local/lib/python3.6/dist-packages (0.4.0)\n",
            "Requirement already satisfied: pillow>=4.1.1 in /usr/local/lib/python3.6/dist-packages (from torchvision) (4.3.0)\n",
            "Requirement already satisfied: six in /usr/local/lib/python3.6/dist-packages (from torchvision) (1.12.0)\n",
            "Requirement already satisfied: numpy in /usr/local/lib/python3.6/dist-packages (from torchvision) (1.16.5)\n",
            "Requirement already satisfied: torch==1.2.0 in /usr/local/lib/python3.6/dist-packages (from torchvision) (1.2.0)\n",
            "Requirement already satisfied: olefile in /usr/local/lib/python3.6/dist-packages (from pillow>=4.1.1->torchvision) (0.46)\n",
            "Requirement already satisfied: tqdm in /usr/local/lib/python3.6/dist-packages (4.28.1)\n"
          ],
          "name": "stdout"
        }
      ]
    },
    {
      "cell_type": "code",
      "metadata": {
        "colab_type": "code",
        "id": "Il_53HLSWPTY",
        "colab": {}
      },
      "source": [
        "class CancerDataset(Dataset):\n",
        "  def __init__(self, root, download=True, size=512, train=True):\n",
        "    if download and not os.path.exists(os.path.join(root, 'cancer_data')):\n",
        "      datasets.utils.download_url('http://liftothers.org/cancer_data.tar.gz', root, 'cancer_data.tar.gz', None)\n",
        "      self.extract_gzip(os.path.join(root, 'cancer_data.tar.gz'))\n",
        "      self.extract_tar(os.path.join(root, 'cancer_data.tar'))\n",
        "    \n",
        "    postfix = 'train' if train else 'test'\n",
        "    root = os.path.join(root, 'cancer_data', 'cancer_data')\n",
        "    self.dataset_folder = torchvision.datasets.ImageFolder(os.path.join(root, 'inputs_' + postfix) ,transform = transforms.Compose([transforms.Resize(size),transforms.ToTensor()]))\n",
        "    self.label_folder = torchvision.datasets.ImageFolder(os.path.join(root, 'outputs_' + postfix) ,transform = transforms.Compose([transforms.Resize(size),transforms.ToTensor()]))\n",
        "\n",
        "  @staticmethod\n",
        "  def extract_gzip(gzip_path, remove_finished=False):\n",
        "    print('Extracting {}'.format(gzip_path))\n",
        "    with open(gzip_path.replace('.gz', ''), 'wb') as out_f, gzip.GzipFile(gzip_path) as zip_f:\n",
        "      out_f.write(zip_f.read())\n",
        "    if remove_finished:\n",
        "      os.unlink(gzip_path)\n",
        "  \n",
        "  @staticmethod\n",
        "  def extract_tar(tar_path):\n",
        "    print('Untarring {}'.format(tar_path))\n",
        "    z = tarfile.TarFile(tar_path)\n",
        "    z.extractall(tar_path.replace('.tar', ''))\n",
        "\n",
        "  def __getitem__(self,index):\n",
        "    img = self.dataset_folder[index]\n",
        "    label = self.label_folder[index]\n",
        "    return img[0],label[0][0]\n",
        "  \n",
        "  def __len__(self):\n",
        "    return int(len(self.dataset_folder))"
      ],
      "execution_count": 0,
      "outputs": []
    },
    {
      "cell_type": "markdown",
      "metadata": {
        "colab_type": "text",
        "id": "QY4owfQwm-Ni"
      },
      "source": [
        "___\n",
        "\n",
        "### Part 1b\n",
        "Implement a cost function\n",
        "\n",
        "You should still use cross-entropy as your cost function, but you may need to think hard about how exactly to set this up – your network should output cancer/not-cancer probabilities for each pixel, which can be viewed as a two-class classification problem.\n",
        "\n",
        "**TODO:**\n",
        "\n",
        "* Adapt CrossEntropyLoss for 2 class pixel classification\n",
        "\n",
        "**DONE:**\n",
        "\n"
      ]
    },
    {
      "cell_type": "code",
      "metadata": {
        "colab_type": "code",
        "id": "XPgrP88aOtfy",
        "colab": {}
      },
      "source": [
        "# You'll probably want a function or something to test input / output sizes of the ConvTranspose2d layer\n"
      ],
      "execution_count": 0,
      "outputs": []
    },
    {
      "cell_type": "markdown",
      "metadata": {
        "id": "anjDp5B3Hg9Z",
        "colab_type": "text"
      },
      "source": [
        "You're gonna use the convolution transpose, which has the same layout structure as convolution. Except that instead of thinking about what the input is to what you get an output, you think about what the output is to get an input, in terms of shape size.\n",
        "\n",
        "**What we did to write the cancer dataset class**\n",
        "- Remember to shuffle data\n",
        "\n",
        "PROFILING\n",
        "You will find that each step of the operation is slow. How to fix it: num_workers in dataloader. By using x workers, you can have x images in your dataloader in the same time that it would have taken to get 1. Take the number of threads you have (unsure about actual number on colab but in general) multiply it by 1.5 and that is a good number for the number of workers. Definitely on the train_loader. Less important on the val_loader. Incur upfront cost of loading imgs using multiple threads, but get a speed up during training.\n",
        "\n",
        "!nvidia-smi. This function will tell you how much GPU you're using. If you find yourself with low GPU utilization, that means it's taking longer to load your batches than it is to run your batch which means you're bottlenecked by the dataloader. The only way to fix that is to make your dataloader faster or to use more threads. If GPU utilization is high (like in 90% range) then you're basically running at full capacity and the only way to speed things up is to make your model smaller and more efficient. Batches will be small. Model is fixed. Kinda stuck. Do what you can to get any improvement.\n",
        "\n",
        "Measuring number: iterations per second that you get from tqdm.\n",
        "Look into gputil. showUtilization() know that it takes longer to run than loading images, thus will slow down it/s if you use it a bunch.\n",
        "You can increase your batch size to increase utilization. There's a sweet spot in number of steps. If batch size is small, bunch a steps. If batch size is large, not a bunch of steps.\n",
        "Something called line profiling."
      ]
    },
    {
      "cell_type": "code",
      "metadata": {
        "id": "rIXyfC9IL_MI",
        "colab_type": "code",
        "colab": {}
      },
      "source": [
        "# How to free up GPU memory\n",
        "# 1. model = model.cuda() not strictly necessary\n",
        "#    Call model.cuda() instead (stand alone)\n",
        "#\n",
        "# 2. Create Scope:(discourages ipynb from using local variables) THIS ONE IS THE MOST IMPORTANT\n",
        "#    Put ur shit (model initialization and train loop) into a function called scope (or something)\n",
        "#\n",
        "# 3. Force the garbage collector to collect the garbage (gc.collect())\n",
        "#    In practice this only solves part of the problem.\n",
        "#    Forcing garbage collection at the beginning of train loop will help your memory footprint\n",
        "#\n",
        "# 4. Catch exceptions\n",
        "#    Unhandled exceptions (keyboard interrupt) cause a memory leak\n",
        "#    Put whole model initialization and train loop in a try statement\n",
        "#    try:\n",
        "#        # stuff\n",
        "#    except Exception | KeyboardInterrupt: # just call except and that will catch all, no need to specify \"Exception\" or \"keyboardInterrupt\"\n",
        "#        __ITB__()\n",
        "#        \n",
        "# More tools: \n",
        "#    torch.cuda.empty_cache() # this will force empty the gpu\n",
        "#    print(torch.cuda.memory_allocated(0) / 1e9) # This will print amount of GPU memory being used\n",
        "#\n",
        "#\n",
        "# This is for debugging: \n",
        "# It says: grab all objects in garbage collector (gc), if the object is a tensor, print its size\n",
        "# for obj in gc.get_objects():\n",
        "#     if torch.is_tensor(obj):\n",
        "#         print(obj.size())"
      ],
      "execution_count": 0,
      "outputs": []
    },
    {
      "cell_type": "code",
      "metadata": {
        "id": "37G93CbMFs2w",
        "colab_type": "code",
        "colab": {}
      },
      "source": [
        "print(torch.cuda.memory_allocated(0) / 1e9) # This will print amount of GPU memory being used\n",
        "torch.cuda.empty_cache() # this will force empty the gpu\n",
        "print(torch.cuda.memory_allocated(0) / 1e9) # This will print amount of GPU memory being used\n",
        "!nvidia-smi"
      ],
      "execution_count": 0,
      "outputs": []
    },
    {
      "cell_type": "code",
      "metadata": {
        "id": "jCXwqSH_S1yH",
        "colab_type": "code",
        "colab": {}
      },
      "source": [
        "### How to use something that is not nn.Sequential() 22:00\n",
        "# Around 24:00 he talks about how another TA made the u-net as a bunch of separate modules\n",
        "# \"You don't need to have all of this in one module, you can split it up into different modules as you deem necessary\""
      ],
      "execution_count": 0,
      "outputs": []
    },
    {
      "cell_type": "code",
      "metadata": {
        "colab_type": "code",
        "id": "jq22IyKanxo_",
        "colab": {}
      },
      "source": [
        "# Since you will be using the output of one network in two places(convolution and maxpooling),\n",
        "# you can't use nn.Sequential.\n",
        "# Instead you will write up the network like normal variable assignment as the example shown below:\n",
        "# You are welcome (and encouraged) to use the built-in batch normalization and dropout layer.\n",
        "\n",
        "\n",
        "class Block(nn.Module):\n",
        "    def __init__(self, in_channels, out_channels):\n",
        "        super(Block, self).__init__()\n",
        "        \n",
        "        self.net = nn.Sequential(\n",
        "            nn.Conv2d(in_channels, out_channels, kernel_size = 3, stride = 1, padding = 1),\n",
        "            nn.ReLU(),\n",
        "            nn.Conv2d(out_channels, out_channels, kernel_size = 3, stride = 1, padding = 1),\n",
        "            nn.ReLU(),\n",
        "            nn.Conv2d(out_channels, out_channels, kernel_size = 3, stride = 1, padding = 1)\n",
        "        )\n",
        "        \n",
        "    \n",
        "    def forward(self, input):\n",
        "#         print(input.shape)\n",
        "        return self.net(input).squeeze(2).squeeze(2)\n",
        "    \n",
        "\n",
        "# TODO: You need to change this to fit the UNet structure!!!\n",
        "class CancerDetection(nn.Module):\n",
        "    def __init__(self):\n",
        "        super(CancerDetection, self).__init__()\n",
        "        self.block1 = Block(3,64)\n",
        "        self.block2 = Block(64,128)\n",
        "        self.block3 = Block(128,256)\n",
        "        self.block4 = Block(256,512)\n",
        "        self.block5 = Block(512,512)\n",
        "        \n",
        "        # Upsampling layers\n",
        "        self.convTrans1 = nn.ConvTranspose2d(512,512,kernel_size=2,stride=2,padding=0)\n",
        "        self.block6 = Block(1024,256)\n",
        "        self.convTrans2 = nn.ConvTranspose2d(256,256,kernel_size=2,stride=2,padding=0)\n",
        "        self.block7 = Block(512,128)\n",
        "        self.convTrans3 = nn.ConvTranspose2d(128,128,kernel_size=2,stride=2,padding=0)\n",
        "        self.block8 = Block(256,64)\n",
        "        self.convTrans4 = nn.ConvTranspose2d(64,64,kernel_size=2,stride=2,padding=0)\n",
        "        self.block9 = Block(128,64)\n",
        "        self.finalConv = nn.Conv2d(64,2, kernel_size = 1, stride = 1, padding = 0)\n",
        "        \n",
        "        self.maxpool2d = nn.MaxPool2d(kernel_size=(2,2), stride = 2, padding = 0)\n",
        " \n",
        "\n",
        "    def forward(self, input):\n",
        "        # Downsample chunk\n",
        "        o1 = self.block1(input)\n",
        "        o2 = self.block2(self.maxpool2d(o1))\n",
        "        o3 = self.block3(self.maxpool2d(o2))\n",
        "        o4 = self.block4(self.maxpool2d(o3))\n",
        "        o5 = self.block5(self.maxpool2d(o4))        \n",
        "        # Upsample and concatenate chunk\n",
        "        o6 = self.block6(torch.cat((o4, self.convTrans1(o5)), 1))\n",
        "        o7 = self.block7(torch.cat((o3, self.convTrans2(o6)), 1))\n",
        "        o8 = self.block8(torch.cat((o2, self.convTrans3(o7)), 1))\n",
        "        o9 = self.block9(torch.cat((o1, self.convTrans4(o8)), 1))\n",
        "        final_o = self.finalConv(o9)\n",
        "\n",
        "#         print(o1.shape)                                                                                \n",
        "#         print(o2.shape)\n",
        "#         print(o3.shape)\n",
        "#         print(o4.shape)\n",
        "#         print(o5.shape)\n",
        "#         print(\"Upsamples\")\n",
        "#         print(o6.shape)\n",
        "#         print(o7.shape)\n",
        "#         print(o8.shape)\n",
        "#         print(o9.shape)\n",
        "#         print(final_o.shape)\n",
        "\n",
        "        return final_o.squeeze(2).squeeze(2)\n",
        "    \n"
      ],
      "execution_count": 0,
      "outputs": []
    },
    {
      "cell_type": "code",
      "metadata": {
        "colab_type": "code",
        "id": "NAjagHCdGNAh",
        "colab": {}
      },
      "source": [
        "# Create your datasets and neural network as you have before\n",
        "# Datasets\n",
        "train_dataset = CancerDataset('/tmp/cancer_train', train=True, size=256)\n",
        "val_dataset = CancerDataset('/tmp/cancer_test', train=False, size=256)\n",
        "\n",
        "# Init dataloaders\n",
        "train_loader = DataLoader(train_dataset,\n",
        "                          batch_size=20,\n",
        "                          shuffle=True,\n",
        "                          pin_memory=True,\n",
        "                          num_workers=5\n",
        "                         )\n",
        "val_loader = DataLoader(val_dataset,\n",
        "                         batch_size=20,\n",
        "                         pin_memory=True,\n",
        "                        )"
      ],
      "execution_count": 0,
      "outputs": []
    },
    {
      "cell_type": "code",
      "metadata": {
        "id": "NUS9N7fjBGol",
        "colab_type": "code",
        "colab": {}
      },
      "source": [
        "def get_raw_accuracy(y_hat, y_truth):\n",
        "    # what we want to do is turn y_hat into a 2d tensor of 0's and 1 to compare to y_truth\n",
        "    accs = []\n",
        "    # Acc\n",
        "    for pred, target in zip(y_hat, y_truth):\n",
        "        pix_pred = torch.argmax(pred, dim=0).long()\n",
        "        correct = 1 - torch.abs(pix_pred - target.long())\n",
        "        acc = torch.mean(correct.float())\n",
        "        accs.append(acc.item())\n",
        "\n",
        "    return np.mean(accs)"
      ],
      "execution_count": 0,
      "outputs": []
    },
    {
      "cell_type": "code",
      "metadata": {
        "colab_type": "code",
        "id": "RkieTbwlYWPS",
        "colab": {
          "base_uri": "https://localhost:8080/",
          "height": 737
        },
        "outputId": "c7346dd1-6b46-419f-8b8c-bfb9b393d3df"
      },
      "source": [
        "# This is what was talked about in the video for memory management\n",
        "\n",
        "def scope():\n",
        "  try:\n",
        "    losses = []\n",
        "    accuracies = []\n",
        "    validations = []\n",
        "    validation_accs= []\n",
        "    \n",
        "    #your code for calling dataset and dataloader\n",
        "    gc.collect()\n",
        "    torch.cuda.empty_cache()\n",
        "    print(torch.cuda.memory_allocated(0) / 1e9)\n",
        "    \n",
        "    # Init model\n",
        "    model = CancerDetection()\n",
        "    model.cuda()\n",
        "    # Init optimizer\n",
        "    optimizer = optim.Adam(model.parameters(), lr=1e-4)\n",
        "    # Init loss function\n",
        "    objective = nn.CrossEntropyLoss()\n",
        "    \n",
        "    softmax = nn.Softmax2d()\n",
        "    \n",
        "    # TRAIN\n",
        "    #for epochs:\n",
        "    # Call your model, figure out loss and accuracy\n",
        "    num_epochs = 10\n",
        "    for epoch in range(num_epochs):\n",
        "        loop = tqdm(total=len(train_loader), position=0, leave=False)\n",
        "        for batch, (x,y_truth) in enumerate(train_loader):\n",
        "            # 1. Get the actual input and output from train_loader (x, y_truth)\n",
        "            x = x.cuda(async=True)\n",
        "            y_truth = y_truth.cuda(async=True)\n",
        "            y_truth = y_truth.long()\n",
        "            # 2. Zero gradient the optimizer for some reason (TODO)\n",
        "            optimizer.zero_grad()\n",
        "\n",
        "            # 3. Get y_hat (prediction)\n",
        "            y_hat = model(x)\n",
        "            \n",
        "#             # Print prediction\n",
        "#             torch.cuda.synchronize()\n",
        "#             img = softmax(y_hat)\n",
        "#             img = y_hat[0].detach().squeeze().cpu().numpy()\n",
        "#             img = np.argmax(img, axis=0)\n",
        "#             plt.subplot(1,2,1)\n",
        "#             plt.imshow(img, interpolation='nearest', cmap='Greys')\n",
        "#             plt.rcParams[\"axes.grid\"] = False\n",
        "#             # Print Ground truth\n",
        "#             plt.subplot(1,2,2)\n",
        "#             img1 = y_truth[0].detach().squeeze().cpu().numpy()\n",
        "#             plt.imshow(img1, interpolation='nearest', cmap='Greys')\n",
        "#             plt.rcParams[\"axes.grid\"] = False\n",
        "#             plt.show()\n",
        "\n",
        "            # 4. Compute loss (y_hat batch,2,h,w --- Y_truth: b, h, w)\n",
        "            loss = objective(y_hat, y_truth)\n",
        "            # 5. Backprop (compute gradients)\n",
        "            loss.backward()\n",
        "            # 6. Step downhill\n",
        "            optimizer.step()\n",
        "\n",
        "            # Housekeeping\n",
        "            losses.append(loss)\n",
        "            accuracy = get_raw_accuracy(y_hat, y_truth)\n",
        "            mem = torch.cuda.memory_allocated(0) / 1e9\n",
        "            accuracies.append(accuracy)\n",
        "            loop.set_description('epoch:{}, loss:{:.4f}, accuracy:{:.3f}, mem:{:.2f}'.format(epoch, loss, accuracy, mem))\n",
        "            loop.update(1)\n",
        "\n",
        "            # Validation Loop (cute and optimized)\n",
        "            if batch % 500 == 0:\n",
        "                # compute the loss for all x, y in val_loader, then get the mean of those losses\n",
        "                val = np.mean([objective(model(x.cuda()), y.cuda().long()).item()\n",
        "                               for x, y in val_loader\n",
        "                               ])\n",
        "                validations.append((len(losses), val))\n",
        "                \n",
        "                val_acc = np.mean([get_raw_accuracy(model(x.cuda()), y.cuda().long()).item()\n",
        "                               for x, y in val_loader\n",
        "                               ])\n",
        "                validation_accs.append((len(accuracies), val_acc))\n",
        "        loop.close()\n",
        "                \n",
        "    # PLOT\n",
        "    # PLOT\n",
        "    # validations is a list of tuples, this unzips it into two lists\n",
        "    a, b = zip(*validations)\n",
        "    plt.plot(losses, label='train')\n",
        "    plt.plot(a, b, label='val')\n",
        "    plt.legend()\n",
        "    plt.show()\n",
        "    # Show accuracy progression\n",
        "    a1, b1 = zip(*validation_accs)\n",
        "    plt.plot(accuracies, label='train acc')\n",
        "    plt.plot(a1, b1, label='val acc')\n",
        "    plt.legend()\n",
        "    plt.show()\n",
        "    \n",
        "    \n",
        "    # PART 3\n",
        "    # Format Prediction\n",
        "    x_example, y_truth = val_dataset[172]    \n",
        "    torch.cuda.synchronize()\n",
        "    y_hat = model(x_example.cuda(async=True).unsqueeze(0))\n",
        "    pred = softmax(y_hat)\n",
        "    pred = y_hat[0].detach().squeeze().cpu().numpy()\n",
        "    pred = np.argmax(pred, axis=0)\n",
        "    # Format Ground truth\n",
        "    g_truth = y_truth.detach().cpu().numpy()\n",
        "    \n",
        "    # Show imgs\n",
        "    fig, axs = plt.subplots(1, 2)\n",
        "    axs[0].imshow(pred, interpolation='nearest', cmap='Greys')\n",
        "    axs[0].set_title('Prediction')\n",
        "    axs[1].imshow(g_truth, interpolation='nearest', cmap='Greys')\n",
        "    axs[1].set_title('Ground Truth')\n",
        "    plt.show()\n",
        "    \n",
        "  except:\n",
        "    __ITB__()\n",
        "    torch.cuda.empty_cache()\n",
        "\n",
        "scope()\n"
      ],
      "execution_count": 55,
      "outputs": [
        {
          "output_type": "stream",
          "text": [
            "0.563775488\n"
          ],
          "name": "stdout"
        },
        {
          "output_type": "stream",
          "text": [
            ""
          ],
          "name": "stderr"
        },
        {
          "output_type": "display_data",
          "data": {
            "image/png": "[encoded data removed]",
            "text/plain": [
              "<Figure size 432x288 with 1 Axes>"
            ]
          },
          "metadata": {
            "tags": []
          }
        },
        {
          "output_type": "display_data",
          "data": {
            "image/png": "[encoded data removed]",
            "text/plain": [
              "<Figure size 432x288 with 1 Axes>"
            ]
          },
          "metadata": {
            "tags": []
          }
        },
        {
          "output_type": "display_data",
          "data": {
            "image/png": "[encoded data removed]",
            "text/plain": [
              "<Figure size 432x288 with 2 Axes>"
            ]
          },
          "metadata": {
            "tags": []
          }
        }
      ]
    },
    {
      "cell_type": "code",
      "metadata": {
        "id": "WAIPR9wa5ToG",
        "colab_type": "code",
        "colab": {
          "base_uri": "https://localhost:8080/",
          "height": 35
        },
        "outputId": "c1256d11-2cb5-4fc3-fc5c-c9fb441f3468"
      },
      "source": [
        "print(torch.cuda.memory_allocated(0) / 1e9)\n",
        "\n",
        "# print(test_dataset[0][0].shape)\n",
        "\n",
        "# array = np.array(testing_dataset[0][0])\n",
        "# array = np.moveaxis(array, 0, -1)\n",
        "# print(array.shape)\n",
        "# # array = np.moveaxis(array, 0, 1)\n",
        "# print(array.shape)\n",
        "\n",
        "# img = Image.fromarray(array, 'RGB')\n",
        "# plt.imshow(img)\n"
      ],
      "execution_count": 46,
      "outputs": [
        {
          "output_type": "stream",
          "text": [
            "0.0\n"
          ],
          "name": "stdout"
        }
      ]
    },
    {
      "cell_type": "markdown",
      "metadata": {
        "colab_type": "text",
        "id": "CZ062Jv1jIIu"
      },
      "source": [
        "\n",
        "___\n",
        "\n",
        "### Part 2\n",
        "\n",
        "Plot performance over time\n",
        "\n",
        "Please generate a plot that shows loss on the training set as a function of training time. Make sure your axes are labeled!\n",
        "\n",
        "**TODO:**\n",
        "\n",
        "* Plot training loss as function of training time (not Epochs)\n",
        "\n",
        "**DONE:**\n"
      ]
    },
    {
      "cell_type": "code",
      "metadata": {
        "id": "i-4xA1ucTV5Q",
        "colab_type": "code",
        "colab": {}
      },
      "source": [
        "# PLOT\n",
        "# validations is a list of tuples, this unzips it into two lists\n",
        "# a, b = zip(*validations)\n",
        "plt.plot(losses, label='train')\n",
        "# plt.plot(a, b, label='val')\n",
        "plt.legend()\n",
        "plt.show()\n",
        "# Show accuracy progression\n",
        "plt.plot(accuracies, label='acc')\n",
        "plt.legend()\n",
        "plt.show()"
      ],
      "execution_count": 0,
      "outputs": []
    },
    {
      "cell_type": "markdown",
      "metadata": {
        "colab_type": "text",
        "id": "S4s92S2_jQOG"
      },
      "source": [
        "___\n",
        "\n",
        "### Part 3\n",
        "\n",
        "Generate a prediction on the pos_test_000072.png image\n",
        "\n",
        "Calculate the output of your trained network on the pos_test_000072.png image,\n",
        "then make a hard decision (cancerous/not-cancerous) for each pixel.\n",
        "The resulting image should be black-and-white, where white pixels represent things\n",
        "you think are probably cancerous.\n",
        "\n",
        "**TODO:**\n",
        "\n",
        "**DONE:**\n",
        "\n",
        "**NOTE:**\n",
        "\n",
        "Guessing that the pixel is not cancerous every single time will give you an accuracy of ~ 85%.\n",
        "Your trained network should be able to do better than that (but you will not be graded on accuracy).\n",
        "This is the result I got after 1 hour or training.\n",
        "\n",
        "![](http://liftothers.org/dokuwiki/lib/exe/fetch.php?w=400&tok=d23e0b&media=cs501r_f2016:training_accuracy.png)\n",
        "![](http://liftothers.org/dokuwiki/lib/exe/fetch.php?w=400&tok=bb8e3c&media=cs501r_f2016:training_loss.png)"
      ]
    },
    {
      "cell_type": "code",
      "metadata": {
        "colab_type": "code",
        "id": "XXfG3wClh8an",
        "pycharm": {
          "is_executing": false
        },
        "colab": {}
      },
      "source": [
        "# Code for testing prediction on an image\n"
      ],
      "execution_count": 0,
      "outputs": []
    }
  ]
}