{
  "nbformat": 4,
  "nbformat_minor": 0,
  "metadata": {
    "accelerator": "GPU",
    "colab": {
      "name": "DL_Lab3.ipynb",
      "provenance": [],
      "collapsed_sections": []
    },
    "kernelspec": {
      "name": "python3",
      "display_name": "Python 3"
    },
    "language_info": {
      "codemirror_mode": {
        "name": "ipython",
        "version": 3
      },
      "file_extension": ".py",
      "mimetype": "text/x-python",
      "name": "python",
      "nbconvert_exporter": "python",
      "pygments_lexer": "ipython3",
      "version": "3.6.3"
    },
    "pycharm": {
      "stem_cell": {
        "cell_type": "raw",
        "metadata": {
          "collapsed": false
        },
        "source": []
      }
    }
  },
  "cells": [
    {
      "cell_type": "markdown",
      "metadata": {
        "id": "mTNV1I2wEC1U",
        "colab_type": "text"
      },
      "source": [
        "<a href=\"https://colab.research.google.com/github/wingated/cs474_labs_f2019/blob/master/DL_Lab3.ipynb\" target=\"_parent\"><img src=\"https://colab.research.google.com/assets/colab-badge.svg\" alt=\"Open In Colab\"/></a>"
      ]
    },
    {
      "cell_type": "markdown",
      "metadata": {
        "colab_type": "text",
        "id": "view-in-github"
      },
      "source": [
        "# Lab 3: Intro to CNNs and DNNs\n",
        "\n",
        "## Objectives\n",
        "\n",
        "* Build and train a deep conv net\n",
        "* Explore and implement various initialization techniques\n",
        "* Implement a parameterized module in Pytorch\n",
        "* Use a principled loss function\n",
        "\n",
        "## Video Tutorial\n",
        "[https://youtu.be/3TAuTcx-VCc](https://youtu.be/3TAuTcx-VCc)\n",
        "\n",
        "## Deliverable\n",
        "For this lab, you will submit an ipython notebook via learningsuite.\n",
        "This is where you build your first deep neural network!\n",
        "\n",
        "For this lab, we'll be combining several different concepts that we've covered during class,\n",
        "including new layer types, initialization strategies, and an understanding of convolutions.\n",
        "\n",
        "## Grading Standards:\n",
        "* 30% Part 0: Successfully followed lab video and typed in code\n",
        "* 20% Part 1: Re-implement Conv2D and CrossEntropy loss function\n",
        "* 20% Part 2: Implement different initialization strategies\n",
        "* 10% Part 3: Print parameters, plot train/test accuracy\n",
        "* 10% Part 4: Convolution parameters quiz\n",
        "* 10% Tidy and legible figures, including labeled axes where appropriate\n",
        "___\n",
        "\n",
        "### Part 0\n",
        "Watch and follow video tutorial:\n",
        "\n",
        "[https://youtu.be/3TAuTcx-VCc](https://youtu.be/3TAuTcx-VCc)\n",
        "\n",
        "**TODO:**\n",
        "\n",
        "\n",
        "\n",
        "**DONE:**\n",
        "\n",
        "* Watch tutorial"
      ]
    },
    {
      "cell_type": "code",
      "metadata": {
        "pycharm": {
          "name": "#%%\n"
        },
        "id": "6o5RzMvJEC1X",
        "colab_type": "code",
        "outputId": "8a6ee7d1-fcb2-4f4c-d5aa-9788028b3e1e",
        "colab": {
          "base_uri": "https://localhost:8080/",
          "height": 173
        }
      },
      "source": [
        "!pip3 install torch\n",
        "!pip3 install torchvision\n",
        "!pip3 install tqdm "
      ],
      "execution_count": 8,
      "outputs": [
        {
          "output_type": "stream",
          "text": [
            "Requirement already satisfied: torch in /usr/local/lib/python3.6/dist-packages (1.1.0)\n",
            "Requirement already satisfied: numpy in /usr/local/lib/python3.6/dist-packages (from torch) (1.16.5)\n",
            "Requirement already satisfied: torchvision in /usr/local/lib/python3.6/dist-packages (0.3.0)\n",
            "Requirement already satisfied: pillow>=4.1.1 in /usr/local/lib/python3.6/dist-packages (from torchvision) (4.3.0)\n",
            "Requirement already satisfied: six in /usr/local/lib/python3.6/dist-packages (from torchvision) (1.12.0)\n",
            "Requirement already satisfied: numpy in /usr/local/lib/python3.6/dist-packages (from torchvision) (1.16.5)\n",
            "Requirement already satisfied: torch>=1.1.0 in /usr/local/lib/python3.6/dist-packages (from torchvision) (1.1.0)\n",
            "Requirement already satisfied: olefile in /usr/local/lib/python3.6/dist-packages (from pillow>=4.1.1->torchvision) (0.46)\n",
            "Requirement already satisfied: tqdm in /usr/local/lib/python3.6/dist-packages (4.28.1)\n"
          ],
          "name": "stdout"
        }
      ]
    },
    {
      "cell_type": "markdown",
      "metadata": {
        "id": "3HEVWKALEC1a",
        "colab_type": "text"
      },
      "source": [
        ""
      ]
    },
    {
      "cell_type": "code",
      "metadata": {
        "colab_type": "code",
        "id": "wQOefmcZVgTl",
        "colab": {}
      },
      "source": [
        "import torch\n",
        "import torch.nn as nn\n",
        "import torch.nn.functional as F\n",
        "import torch.optim as optim\n",
        "from torch.utils.data import Dataset, DataLoader\n",
        "import numpy as np\n",
        "import matplotlib.pyplot as plt\n",
        "from torchvision import transforms, utils, datasets\n",
        "from tqdm import tqdm\n",
        "from torch.nn.parameter import Parameter\n",
        "import pdb\n",
        "\n",
        "assert torch.cuda.is_available(), \"You need to request a GPU from Runtime > Change Runtime\""
      ],
      "execution_count": 0,
      "outputs": []
    },
    {
      "cell_type": "code",
      "metadata": {
        "id": "g2NpDqfDVupr",
        "colab_type": "code",
        "colab": {}
      },
      "source": [
        ""
      ],
      "execution_count": 0,
      "outputs": []
    },
    {
      "cell_type": "markdown",
      "metadata": {
        "id": "J3bBG8c1Wx3j",
        "colab_type": "text"
      },
      "source": [
        "\"Lab spec will have you look at uniform initialization (shown in video), it's gonna have you look at xe (z?) initialization. You'll have to look that up and figure out how to code it yourself (not very hard). Orthogonal initialization where there's a blog post you'll read and it'll explain how to do that. The way I would do it is do it in numpy and then bring in a numpy orthogonal weight matrix IN to pytorch as the initialization, just because svd is easier to do in numpy than in pytorch.\"\n",
        "\n",
        "Printing Accuracy:\n",
        "\n",
        "**Creating Own softmax entropy loss:** create it the same way as other modules with an ______init__ and  forward function. Forward will take in two items (same api as cross entropy loss in pytorch)\n",
        "\n",
        "**TIPS:**\n",
        "\n",
        "\n",
        "*   if ur having memory problems run: !nvidia-smi and it will tell you what the gpu is currently doing\n",
        "*   \n",
        "\n",
        "**Tests by kernel sizing:** Review last 3 minutes of video"
      ]
    },
    {
      "cell_type": "code",
      "metadata": {
        "colab_type": "code",
        "id": "Il_53HLSWPTY",
        "outputId": "7c468a32-1a9f-44eb-f590-373ff928911e",
        "colab": {
          "base_uri": "https://localhost:8080/",
          "height": 590
        }
      },
      "source": [
        "import torch\n",
        "import torch.nn as nn\n",
        "import torch.nn.functional as F\n",
        "import torch.optim as optim\n",
        "from torch.utils.data import Dataset, DataLoader\n",
        "import numpy as np\n",
        "import matplotlib.pyplot as plt\n",
        "from torchvision import transforms, utils, datasets\n",
        "from tqdm import tqdm\n",
        "from torch.nn.parameter import Parameter\n",
        "import pdb\n",
        "\n",
        "assert torch.cuda.is_available(), \"You need to request a GPU from Runtime > Change Runtime\"\n",
        "\n",
        "\n",
        "# \"We want to understand how to build new modules that take parameters\" (i.e. how did pytorch code up nn.Conv2d?)\n",
        "class Conv2d(nn.Module):\n",
        "    def __init__(self, in_channels, out_channels, kernel_size, stride=1, padding=0, dilation=1, groups=1, bias=True,\n",
        "                 padding_mode='zeros', init_strategy=\"\"):\n",
        "        # locals() is a dictionary of items that are currently defined in this scope (/giphy mind blown)\n",
        "        # update() merges 2 dictionaries\n",
        "        # self.__dict__ represents the members of the class in python (/giphy wild)\n",
        "        # This line of code accomplishes self.in_channels = in_channels ... self.padding_mode = padding_mode\n",
        "        self.__dict__.update(locals())\n",
        "        super(Conv2d, self).__init__()\n",
        "\n",
        "        # weight is a 4d tensor of size (out, in, k, k) where k is kernel size\n",
        "        # \"Parameter is a pytorch object which has data as a thing, will provide grad and other handy operations on tensors that are useful for updating\" (TODO: read doc?)\n",
        "        self.weight = Parameter(torch.Tensor(out_channels,\n",
        "                                             in_channels,\n",
        "                                             *kernel_size))  # kernel_size[0], kernel_size[1]\n",
        "        self.bias = Parameter(torch.Tensor(out_channels))\n",
        "\n",
        "        self.weight.data.uniform_(-1, 1)\n",
        "        self.bias.data.uniform_(0, 0)\n",
        "\n",
        "        # initialize these\n",
        "        if init_strategy == 'xav':\n",
        "            torch.nn.init.xavier_uniform_(self.weight)\n",
        "        elif init_strategy == 'orth':\n",
        "            M = np.random.random((self.out_channels, self.in_channels * kernel_size[0] * kernel_size[1])).astype(\n",
        "                np.float32)\n",
        "            U, _, Vt = np.linalg.svd(M, full_matrices=False)\n",
        "            if len(M) > len(M[0]):  # If M has more rows than columns, take U instead of V\n",
        "                W = U.reshape((self.out_channels, self.in_channels, kernel_size[0], kernel_size[1]))\n",
        "            else:\n",
        "                W = Vt.reshape((self.out_channels, self.in_channels, kernel_size[0], kernel_size[1]))\n",
        "            self.weight.data = torch.from_numpy(W)  # sends those weights to the weight matrix\n",
        "        elif init_strategy == 'uni':\n",
        "            self.weight.data.uniform_(-1, 1)\n",
        "        else:\n",
        "            # xav if not specified\n",
        "            torch.nn.init.xavier_uniform_(self.weight)\n",
        "\n",
        "    def forward(self, x):\n",
        "        # pytorch functionals: like modules (layers), except they're just the functions that run the code\n",
        "        # This runs convolutions with our weights\n",
        "        return F.conv2d(x, self.weight, self.bias, self.stride,\n",
        "                        self.padding, self.dilation, self.groups)\n",
        "\n",
        "    def extra_repr(self):\n",
        "        return \"boink\"  # todo: remove\n",
        "\n",
        "\n",
        "# CrossEntropyLoss: minimize the distance between two distributions\n",
        "class CrossEntropyLoss(nn.Module):\n",
        "    def __init__(self, weight=None, size_average=None, ignore_index=-100, reduce=None, reduction='mean'):\n",
        "        self.__dict__.update(locals())\n",
        "        super(CrossEntropyLoss, self).__init__()\n",
        "\n",
        "    def forward(self, y_hat, y_truth):\n",
        "        wrong_class_penalty = torch.log(torch.sum(torch.exp(y_hat), dim=1))\n",
        "        bch_sz, classes = y_hat.shape\n",
        "        # one hot encode\n",
        "        b = torch.zeros(size=(bch_sz, classes))\n",
        "        b[np.arange(bch_sz), y_truth] = 1\n",
        "        true_class_preds = torch.sum(y_hat * b.cuda(), dim=1)\n",
        "        return torch.mean(-true_class_preds + wrong_class_penalty)\n",
        "\n",
        "\n",
        "class ConvNetwork(nn.Module):\n",
        "    def __init__(self, dataset):\n",
        "        super(ConvNetwork, self).__init__()\n",
        "        x, y = dataset[0]\n",
        "        c, h, w = x.size()\n",
        "        output = 10\n",
        "\n",
        "        self.net = nn.Sequential(\n",
        "            Conv2d(in_channels=c, out_channels=10, kernel_size=(3, 3), padding=(1, 1), init_strategy='orth'),\n",
        "            nn.ReLU(),\n",
        "            Conv2d(in_channels=10, out_channels=32, kernel_size=(3, 3), padding=(1, 1), init_strategy='orth'),\n",
        "            nn.ReLU(),\n",
        "            Conv2d(in_channels=32, out_channels=64, kernel_size=(3, 3), padding=(1, 1), init_strategy='xav'),\n",
        "            nn.ReLU(),\n",
        "            Conv2d(in_channels=64, out_channels=128, kernel_size=(3, 3), padding=(1, 1), init_strategy='xav'),\n",
        "            nn.ReLU(),\n",
        "            Conv2d(in_channels=128, out_channels=256, kernel_size=(3, 3), padding=(1, 1), init_strategy='uni'),\n",
        "            nn.ReLU(),\n",
        "            Conv2d(in_channels=256, out_channels=128, kernel_size=(3, 3), padding=(1, 1), init_strategy='orth'),\n",
        "            nn.ReLU(),\n",
        "            Conv2d(in_channels=128, out_channels=64, kernel_size=(3, 3), padding=(1, 1), init_strategy='orth'),\n",
        "            nn.ReLU(),\n",
        "            Conv2d(in_channels=64, out_channels=32, kernel_size=(3, 3), padding=(1, 1), init_strategy='uni'),\n",
        "            nn.ReLU(),\n",
        "            Conv2d(in_channels=32, out_channels=output, kernel_size=(28, 28), padding=(0,0))\n",
        "        )\n",
        "\n",
        "    def forward(self, x):\n",
        "        # self.net(x) returns (n,10,1,1) sized object, and we simply want an (n,10)\n",
        "        # Thus we squeeze the second dimension twice: (n,10,1,1)->(n,10,1)->(n,10)\n",
        "        return self.net(x).squeeze(2).squeeze(2)\n",
        "\n",
        "# Use the dataset class you created in lab2\n",
        "class FashionMNISTProcessedDataset(Dataset):\n",
        "    def __init__(self, root, train=True):\n",
        "        print(root)\n",
        "        self.data = datasets.FashionMNIST(root,\n",
        "                                          train=train,\n",
        "                                          transform=transforms.ToTensor(),\n",
        "                                          download=True)\n",
        "        # a 10x10 identity matrix\n",
        "        self.e = torch.eye(10)\n",
        "\n",
        "    # if you were to look up \"Dataset\" documentation, __getitem__ is an essential thing\n",
        "    def __getitem__(self, i):\n",
        "        x, y = self.data[i]\n",
        "        # THIS FUNCTION RULES, it allows you to evaluate expressions IN SCOPE !!! Just like in jetbrains\n",
        "        # pdb.set_trace()\n",
        "        return x, y\n",
        "\n",
        "    # right now, this will have the model train on the whole dataset\n",
        "    def __len__(self):\n",
        "        return len(self.data)\n",
        "\n",
        "# SETUP\n",
        "# Datasets\n",
        "train_dataset = FashionMNISTProcessedDataset('/tmp/fashionmnist')\n",
        "val_dataset = FashionMNISTProcessedDataset('/tmp/fashionmnist', train=False)\n",
        "# Model\n",
        "model = ConvNetwork(train_dataset)\n",
        "model = model.cuda()\n",
        "# Loss Function (code up this class yourself)\n",
        "objective = CrossEntropyLoss()\n",
        "# Optimizer (TODO)\n",
        "optimizer = optim.Adam(model.parameters(), lr=1e-4)\n",
        "# Loaders\n",
        "train_loader = DataLoader(train_dataset,\n",
        "                          batch_size=42,\n",
        "                          pin_memory=True)\n",
        "val_loader = DataLoader(val_dataset,\n",
        "                        batch_size=42,\n",
        "                        pin_memory=True)\n",
        "\n",
        "# TRAIN\n",
        "losses = []\n",
        "validations = []\n",
        "accuracies = []\n",
        "\n",
        "for epoch in range(1):\n",
        "    loop = tqdm(total=len(train_loader), position=0, leave=False)\n",
        "\n",
        "    for batch, (x, y_truth) in enumerate(train_loader):\n",
        "        # 1. Get the actual input and output from train_loader (x, y_truth)\n",
        "        x = x.cuda(async=True)\n",
        "        y_truth = y_truth.cuda(async=True)\n",
        "        # 2. Zero gradient the optimizer for some reason (TODO)\n",
        "        optimizer.zero_grad()\n",
        "        # 3. Get prediction\n",
        "        y_hat = model(x)\n",
        "        # 4. Compute loss\n",
        "        loss = objective(y_hat, y_truth)\n",
        "        # 5. Backpropagate the loss ?? (TODO)\n",
        "        loss.backward()\n",
        "        # 6. ? (TODO)\n",
        "        optimizer.step()\n",
        "\n",
        "        # Housekeeping\n",
        "        losses.append(\n",
        "            loss.item())  # Why objective returns a tensor -> Thus loss is a tensor -> Thus you must call .item() in order to access the actual value inside the tensor\n",
        "        accuracy = (torch.softmax(y_hat,1).argmax(1) == y_truth).float().mean() # Don't know what this is, ur going to have to code this up yourself\n",
        "        accuracies.append(accuracy.item())\n",
        "        loop.set_description('epoch:{}, loss:{:.4f}, accuracy:{:.3f}'.format(epoch, loss, accuracy))\n",
        "        loop.update(1)\n",
        "\n",
        "        # Validation Loop (cute and optimized)\n",
        "        if batch % 500 == 0:\n",
        "            # compute the loss for all x, y in val_loader, then get the mean of those losses\n",
        "            val = np.mean([objective(model(x.cuda()), y.cuda()).item()\n",
        "                           for x, y in val_loader\n",
        "                           ])\n",
        "            validations.append((len(losses), val))\n",
        "\n",
        "    loop.close()\n",
        "\n",
        "print('loss: ', loss)\n",
        "print('acc: ', accuracy)\n",
        "# PLOT\n",
        "# validations is a list of tuples, this unzips it into two lists\n",
        "a, b = zip(*validations)\n",
        "plt.plot(losses, label='train')\n",
        "plt.plot(a, b, label='val')\n",
        "plt.legend()\n",
        "plt.show()\n",
        "# Show accuracy progression\n",
        "plt.plot(accuracies, label='acc')\n",
        "plt.legend()\n",
        "plt.show()"
      ],
      "execution_count": 43,
      "outputs": [
        {
          "output_type": "stream",
          "text": [
            "epoch:0, loss:3.2900, accuracy:0.167:   0%|          | 0/1429 [00:00<?, ?it/s]"
          ],
          "name": "stderr"
        },
        {
          "output_type": "stream",
          "text": [
            "/tmp/fashionmnist\n",
            "/tmp/fashionmnist\n"
          ],
          "name": "stdout"
        },
        {
          "output_type": "stream",
          "text": [
            ""
          ],
          "name": "stderr"
        },
        {
          "output_type": "stream",
          "text": [
            "loss:  tensor(0.1671, device='cuda:0', grad_fn=<MeanBackward0>)\n",
            "acc:  tensor(0.9167, device='cuda:0')\n"
          ],
          "name": "stdout"
        },
        {
          "output_type": "display_data",
          "data": {
            "image/png": "[encoded data removed]",
            "text/plain": [
              "<Figure size 432x288 with 1 Axes>"
            ]
          },
          "metadata": {
            "tags": []
          }
        },
        {
          "output_type": "display_data",
          "data": {
            "image/png": "[encoded data removed]",
            "text/plain": [
              "<Figure size 432x288 with 1 Axes>"
            ]
          },
          "metadata": {
            "tags": []
          }
        }
      ]
    },
    {
      "cell_type": "code",
      "metadata": {
        "id": "CoPF4s7Ou3P0",
        "colab_type": "code",
        "colab": {
          "base_uri": "https://localhost:8080/",
          "height": 35
        },
        "outputId": "91aa29de-4bbb-4049-9de2-3923045ce2ff"
      },
      "source": [
        "(torch.softmax(y_hat,1).argmax(1) == y_truth).float().mean()"
      ],
      "execution_count": 20,
      "outputs": [
        {
          "output_type": "execute_result",
          "data": {
            "text/plain": [
              "tensor(0.8750, device='cuda:0')"
            ]
          },
          "metadata": {
            "tags": []
          },
          "execution_count": 20
        }
      ]
    },
    {
      "cell_type": "code",
      "metadata": {
        "id": "QA4HLNu5Nzbh",
        "colab_type": "code",
        "colab": {}
      },
      "source": [
        "a = torch.from_numpy(np.random.rand(3,10,1).astype(np.float32))"
      ],
      "execution_count": 0,
      "outputs": []
    },
    {
      "cell_type": "code",
      "metadata": {
        "id": "gHd87aTfPFt4",
        "colab_type": "code",
        "colab": {}
      },
      "source": [
        "# Both of these will be necessary for you to know how to do the softmax part, plus the torch.log idea\n",
        "b = torch.exp(a)\n",
        "# a.size(), b.sum(1, keepdim=True).size()\n",
        "z = a / b.sum(1, keepdim=True)\n",
        "z.size()\n",
        "# Currently, size represents (# batch instances, # classes, # of #s in each class)"
      ],
      "execution_count": 0,
      "outputs": []
    },
    {
      "cell_type": "code",
      "metadata": {
        "id": "NOtvqVLqabvq",
        "colab_type": "code",
        "colab": {}
      },
      "source": [
        "i = y_truth[:3]\n",
        "r = torch.arange(b.size(0))\n",
        "c = i\n",
        "# indexing into b and getting b[0,4],b[1,2],b[2,9]\n",
        "b[r,c]"
      ],
      "execution_count": 0,
      "outputs": []
    },
    {
      "cell_type": "code",
      "metadata": {
        "id": "VkUVppdVcuZ0",
        "colab_type": "code",
        "colab": {}
      },
      "source": [
        "r,c"
      ],
      "execution_count": 0,
      "outputs": []
    },
    {
      "cell_type": "code",
      "metadata": {
        "id": "VRHqtLGZdNh5",
        "colab_type": "code",
        "colab": {}
      },
      "source": [
        "# ACCURACY\n",
        "# Output from model will be an enormous tensor with numbers for each class that you're predicting\n",
        "# You might want to know what the argmax is\n",
        "# This is the classes that your network thinks is most likely for each item\n",
        "torch.softmax(y_hat,1).argmax(1)\n",
        "# To find accuracy I want to compare these numbers to y_truth (following 2 lines are equivalent statements. First one is more explicit)\n",
        "(torch.softmax(y_hat,1).argmax(1) == y_truth).float().mean()\n",
        "(y_hat.argmax(1) == y_truth).float().mean()\n",
        "# \"That will help compute accuracy for each batch, and if you want to avg that over whole val dataset, you can print that\"\n",
        "\n",
        "# gives a generator for all params in model\n",
        "model.parameters()\n",
        "for p in model.parameters():\n",
        "    print(p.size())\n",
        "    for s in p.size():\n",
        "        print(s)\n",
        "# for some reason you will want to add the products of these sizes. Have some fun, try to do it w/ a list comprehension\n",
        "# consider using: np.prod(p.size()) for this"
      ],
      "execution_count": 0,
      "outputs": []
    },
    {
      "cell_type": "code",
      "metadata": {
        "id": "TC-nJ4Eed4Gc",
        "colab_type": "code",
        "outputId": "a657a6cd-b968-4b3b-8822-eb7e69376d42",
        "colab": {
          "base_uri": "https://localhost:8080/",
          "height": 35
        }
      },
      "source": [
        "wrong_class_penalty = torch.log(torch.sum(torch.exp(y_hat), dim=1))\n",
        "bch_sz, classes = y_hat.size()\n",
        "# one hot encode\n",
        "b = torch.zeros(size=(bch_sz,classes))\n",
        "b[np.arange(bch_sz), y_truth] = 1\n",
        "true_class_preds = torch.sum(y_hat * b.cuda(), dim=1)\n",
        "CEL = torch.mean(wrong_class_penalty - true_class_preds)\n"
      ],
      "execution_count": 66,
      "outputs": [
        {
          "output_type": "execute_result",
          "data": {
            "text/plain": [
              "tensor(4.4355, device='cuda:0', grad_fn=<MeanBackward0>)"
            ]
          },
          "metadata": {
            "tags": []
          },
          "execution_count": 66
        }
      ]
    },
    {
      "cell_type": "markdown",
      "metadata": {
        "colab_type": "text",
        "id": "QY4owfQwm-Ni"
      },
      "source": [
        "___\n",
        "\n",
        "### Part 1\n",
        "Re-implement a Conv2D module with parameters and a CrossEntropy loss function.\n",
        "\n",
        "**TODO:**\n",
        "\n",
        "\n",
        "\n",
        "**DONE:**\n",
        "* CrossEntropyLoss \n",
        "* Conv2D\n",
        "___\n",
        "\n",
        "### Part 2\n",
        "Implement a few initialization strategies which can include Xe initialization\n",
        "(sometimes called Xavier), Orthogonal initialization, and uniform random.\n",
        "You can specify which strategy you want to use with a parameter. \n",
        "\n",
        "\n",
        "use pytorch's built in xe\n",
        "use uniform from video\n",
        "build your own orthogonal\n",
        "\n",
        "\n",
        "Helpful links include:\n",
        "*  [Orthogonal Initialization](https://hjweide.github.io/orthogonal-initialization-in-convolutional-layers) (or the original paper: http://arxiv.org/abs/1312.6120)\n",
        "*  http://andyljones.tumblr.com/post/110998971763/an-explanation-of-xavier-initialization\n",
        "\n",
        "**TODO:**\n",
        "\n",
        "\n",
        "**DONE:**\n",
        "* Parameterize custom Conv2D for different initilization strategies\n",
        "* Xe\n",
        "* Orthogonal\n",
        "* Uniform\n"
      ]
    },
    {
      "cell_type": "code",
      "metadata": {
        "colab_type": "code",
        "id": "RkieTbwlYWPS",
        "colab": {}
      },
      "source": [
        "class CrossEntropyLoss(nn.Module):\n",
        "  pass\n",
        "\n",
        "class Conv2d(nn.Module):\n",
        "  pass\n"
      ],
      "execution_count": 0,
      "outputs": []
    },
    {
      "cell_type": "code",
      "metadata": {
        "colab_type": "code",
        "id": "d4C-_v9Hm7YE",
        "colab": {}
      },
      "source": [
        "class ConvNetwork(nn.Module):\n",
        "  pass\n"
      ],
      "execution_count": 0,
      "outputs": []
    },
    {
      "cell_type": "code",
      "metadata": {
        "colab_type": "code",
        "id": "jYqywck8Wdm9",
        "pycharm": {
          "is_executing": false
        },
        "colab": {}
      },
      "source": [
        "# Initialize Datasets\n",
        "\n",
        "# Initialize DataLoaders\n",
        "\n",
        "# Initialize Model\n",
        "\n",
        "# Initialize Objective and Optimizer and other parameters\n"
      ],
      "execution_count": 0,
      "outputs": []
    },
    {
      "cell_type": "code",
      "metadata": {
        "colab_type": "code",
        "id": "mTg1jyIsYVZN",
        "pycharm": {
          "is_executing": false
        },
        "colab": {}
      },
      "source": [
        "\n",
        "# Run your training and validation loop and collect stats\n"
      ],
      "execution_count": 0,
      "outputs": []
    },
    {
      "cell_type": "markdown",
      "metadata": {
        "colab_type": "text",
        "id": "ronkEckHiDaU"
      },
      "source": [
        "\n",
        "___\n",
        "\n",
        "### Part 3\n",
        "Print the number of parameters in your network and plot accuracy of your training and validation \n",
        "set over time. You should experiment with some deep networks and see if you can get a network \n",
        "with close to 1,000,000 parameters.\n",
        "\n",
        "**TODO:**\n",
        "* Experiment with Deep Networks\n",
        "* Plot accuracy of training and validation set over time\n",
        "* Print out number of parameters in the model \n",
        "\n",
        "**DONE:**\n"
      ]
    },
    {
      "cell_type": "code",
      "metadata": {
        "colab_type": "code",
        "id": "PaWCKjxvyRSf",
        "pycharm": {
          "is_executing": false
        },
        "colab": {}
      },
      "source": [
        "\n",
        "# Go back up and try a few different networks and initialization strategies\n",
        "# Plot loss if you want\n",
        "# Plot accuracy\n",
        "\n"
      ],
      "execution_count": 0,
      "outputs": []
    },
    {
      "cell_type": "code",
      "metadata": {
        "colab_type": "code",
        "id": "oijCR-JnyS6V",
        "pycharm": {
          "is_executing": false
        },
        "colab": {
          "base_uri": "https://localhost:8080/",
          "height": 35
        },
        "outputId": "c4b83091-8d54-46b8-d450-9a7a2fcb290d"
      },
      "source": [
        "# Compute and print the number of parameters in the model\n",
        "model.parameters()\n",
        "sum = 0\n",
        "for p in model.parameters():\n",
        "    sz = list(p.size())\n",
        "#     print(sz)\n",
        "    prod = np.prod(sz)\n",
        "#     print(prod)\n",
        "    sum += prod\n",
        "\n",
        "print(sum)"
      ],
      "execution_count": 45,
      "outputs": [
        {
          "output_type": "stream",
          "text": [
            "1028718\n"
          ],
          "name": "stdout"
        }
      ]
    },
    {
      "cell_type": "markdown",
      "metadata": {
        "colab_type": "text",
        "id": "7hXGRxUQh9gX"
      },
      "source": [
        "___\n",
        "\n",
        "### Part 4\n",
        "Learn about how convolution layers affect the shape of outputs, and answer the following quiz questions. Include these in a new markdown cell in your jupyter notebook.\n",
        "\n",
        "\n",
        "*Using a Kernel size of 3×3 what should the settings of your 2d convolution be that results in the following mappings (first answer given to you)*\n",
        "\n",
        "* (c=3, h=10, w=10) ⇒ (c=10, h=8, w=8) : (out_channels=10, kernel_size=(3, 3), padding=(0, 0))\n",
        "* (c=3, h=10, w=10) ⇒ (c=22, h=10, w=10) : **(out_channels=22, kernel_size=(3, 3), padding=(1, 1))**\n",
        "* (c=3, h=10, w=10) ⇒ (c=65, h=12, w=12) : **(out_channels=65, kernel_size=(3, 3), padding=(2, 2))**\n",
        "* (c=3, h=10, w=10) ⇒ (c=7, h=20, w=20) : **(out_channels=7, kernel_size=(3, 3), padding=(6,6))**\n",
        "\n",
        "*Using a Kernel size of 5×5:*)\n",
        "\n",
        "* (c=3, h=10, w=10) ⇒ (c=10, h=8, w=8) : (out_channels=10, kernel_size=(5, 5), padding=(1, 1))\n",
        "* (c=3, h=10, w=10) ⇒ (c=100, h=10, w=10) : **(out_channels=100, kernel_size=(5, 5), padding=(2, 2))**\n",
        "* (c=3, h=10, w=10) ⇒ (c=23, h=12, w=12) : **(out_channels=23, kernel_size=(5, 5), padding=(3, 3))**\n",
        "* (c=3, h=10, w=10) ⇒ (c=5, h=24, w=24) : **(out_channels=5, kernel_size=(5, 5), padding=(9, 9))**\n",
        "\n",
        "*Using Kernel size of 5×3:*\n",
        "\n",
        "* (c=3, h=10, w=10) ⇒ (c=10, h=8, w=8) : **(out_channels=10, kernel_size=(5, 3), padding=(1, 0))**\n",
        "* (c=3, h=10, w=10) ⇒ (c=100, h=10, w=10) : **(out_channels=100, kernel_size=(5, 3), padding=(2, 1))**\n",
        "* (c=3, h=10, w=10) ⇒ (c=23, h=12, w=12) : **(out_channels=23, kernel_size=(5, 3), padding=(3, 2))**\n",
        "* (c=3, h=10, w=10) ⇒ (c=5, h=24, w=24) : **(out_channels=5, kernel_size=(5, 3), padding=(9, 8))**\n",
        "\n",
        "*Determine the kernel that requires the smallest padding size to make the following mappings possible:*\n",
        "\n",
        "* (c=3, h=10, w=10) ⇒ (c=10, h=9, w=7) : **kernel_size=(2,4)**\n",
        "* (c=3, h=10, w=10) ⇒ (c=22, h=10, w=10) : **kernel_size=(1,1)**\n",
        "\n",
        "**TODO:**\n",
        "\n",
        "\n",
        "\n",
        "**DONE:**\n",
        "\n",
        "* Answer all the questions above \n"
      ]
    },
    {
      "cell_type": "code",
      "metadata": {
        "colab_type": "code",
        "id": "XXfG3wClh8an",
        "pycharm": {
          "is_executing": false
        },
        "colab": {}
      },
      "source": [
        "# Write some test code for checking the answers for these problems (example shown in the video)\n",
        "model.parameters()\n",
        "sum = 0\n",
        "for p in model.parameters():\n",
        "    sz = list(p.size())\n",
        "    print(sz)\n",
        "    prod = np.prod(sz)\n",
        "    print(prod)\n",
        "    sum += prod\n",
        "\n",
        "print(sum)"
      ],
      "execution_count": 0,
      "outputs": []
    }
  ]
}